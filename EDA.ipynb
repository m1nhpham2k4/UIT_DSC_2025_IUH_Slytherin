{
 "cells": [
  {
   "cell_type": "code",
   "execution_count": 3,
   "id": "874d5433-efee-4785-9da0-10e1b1e68b83",
   "metadata": {},
   "outputs": [],
   "source": [
    "import pandas as pd\n",
    "import numpy as np\n",
    "import matplotlib.pyplot as plt"
   ]
  },
  {
   "cell_type": "code",
   "execution_count": 6,
   "id": "26103978-4828-4ac4-8912-1b2984bf6f64",
   "metadata": {},
   "outputs": [
    {
     "data": {
      "text/html": [
       "<div>\n",
       "<style scoped>\n",
       "    .dataframe tbody tr th:only-of-type {\n",
       "        vertical-align: middle;\n",
       "    }\n",
       "\n",
       "    .dataframe tbody tr th {\n",
       "        vertical-align: top;\n",
       "    }\n",
       "\n",
       "    .dataframe thead th {\n",
       "        text-align: right;\n",
       "    }\n",
       "</style>\n",
       "<table border=\"1\" class=\"dataframe\">\n",
       "  <thead>\n",
       "    <tr style=\"text-align: right;\">\n",
       "      <th></th>\n",
       "      <th>id</th>\n",
       "      <th>context</th>\n",
       "      <th>prompt</th>\n",
       "      <th>response</th>\n",
       "      <th>label</th>\n",
       "    </tr>\n",
       "  </thead>\n",
       "  <tbody>\n",
       "    <tr>\n",
       "      <th>0</th>\n",
       "      <td>9b1ea51d-d1ff-45ba-8cf1-6a91328e8600</td>\n",
       "      <td>Vào những năm 1870, hai nhà điêu khắc Augustus...</td>\n",
       "      <td>Vào những năm 1960, nơi nào trở thành trung tâ...</td>\n",
       "      <td>Quảng trường Washington là trung tâm của thế h...</td>\n",
       "      <td>extrinsic</td>\n",
       "    </tr>\n",
       "    <tr>\n",
       "      <th>1</th>\n",
       "      <td>db7a89c6-2a6a-42af-beef-58e557ecc819</td>\n",
       "      <td>Cách mạng Tháng Mười đã biến một cuộc chiến tr...</td>\n",
       "      <td>Cách mạng Tháng Mười đã khởi xướng chủ nghĩa p...</td>\n",
       "      <td>Sai. Cách mạng Tháng Mười đã đánh bại chủ nghĩ...</td>\n",
       "      <td>no</td>\n",
       "    </tr>\n",
       "    <tr>\n",
       "      <th>2</th>\n",
       "      <td>10fca062-d343-4eca-8434-93c7a8aa5e0e</td>\n",
       "      <td>Vị trí địa lý nằm giữa phương Đông và Địa Trun...</td>\n",
       "      <td>Dựa trên việc Đế quốc Ottoman không bao giờ ki...</td>\n",
       "      <td>Nền ẩm thực của Thổ Nhĩ Kỳ được xây dựng từ gi...</td>\n",
       "      <td>extrinsic</td>\n",
       "    </tr>\n",
       "    <tr>\n",
       "      <th>3</th>\n",
       "      <td>ece8eb9e-d6bb-407a-a567-d9531861c603</td>\n",
       "      <td>Hồ Quý Ly trước có tên là Lê Quý Ly (黎季犛), biể...</td>\n",
       "      <td>Đời cháu thứ 12 của Hồ Hưng Dật sống ở đâu?</td>\n",
       "      <td>Đời cháu thứ 12 của Hồ Hưng Dật, là Hồ Liêm, s...</td>\n",
       "      <td>no</td>\n",
       "    </tr>\n",
       "    <tr>\n",
       "      <th>4</th>\n",
       "      <td>b613217f-df2a-491e-8326-25811a31eb09</td>\n",
       "      <td>Năm 2007, Bồ Đào Nha có khoảng 332.137 người n...</td>\n",
       "      <td>Từ thập niên 1990, tại sao xuất hiện một vài l...</td>\n",
       "      <td>Mặc dù Bồ Đào Nha đã đóng cửa biên giới hoàn t...</td>\n",
       "      <td>intrinsic</td>\n",
       "    </tr>\n",
       "  </tbody>\n",
       "</table>\n",
       "</div>"
      ],
      "text/plain": [
       "                                     id  \\\n",
       "0  9b1ea51d-d1ff-45ba-8cf1-6a91328e8600   \n",
       "1  db7a89c6-2a6a-42af-beef-58e557ecc819   \n",
       "2  10fca062-d343-4eca-8434-93c7a8aa5e0e   \n",
       "3  ece8eb9e-d6bb-407a-a567-d9531861c603   \n",
       "4  b613217f-df2a-491e-8326-25811a31eb09   \n",
       "\n",
       "                                             context  \\\n",
       "0  Vào những năm 1870, hai nhà điêu khắc Augustus...   \n",
       "1  Cách mạng Tháng Mười đã biến một cuộc chiến tr...   \n",
       "2  Vị trí địa lý nằm giữa phương Đông và Địa Trun...   \n",
       "3  Hồ Quý Ly trước có tên là Lê Quý Ly (黎季犛), biể...   \n",
       "4  Năm 2007, Bồ Đào Nha có khoảng 332.137 người n...   \n",
       "\n",
       "                                              prompt  \\\n",
       "0  Vào những năm 1960, nơi nào trở thành trung tâ...   \n",
       "1  Cách mạng Tháng Mười đã khởi xướng chủ nghĩa p...   \n",
       "2  Dựa trên việc Đế quốc Ottoman không bao giờ ki...   \n",
       "3        Đời cháu thứ 12 của Hồ Hưng Dật sống ở đâu?   \n",
       "4  Từ thập niên 1990, tại sao xuất hiện một vài l...   \n",
       "\n",
       "                                            response      label  \n",
       "0  Quảng trường Washington là trung tâm của thế h...  extrinsic  \n",
       "1  Sai. Cách mạng Tháng Mười đã đánh bại chủ nghĩ...         no  \n",
       "2  Nền ẩm thực của Thổ Nhĩ Kỳ được xây dựng từ gi...  extrinsic  \n",
       "3  Đời cháu thứ 12 của Hồ Hưng Dật, là Hồ Liêm, s...         no  \n",
       "4  Mặc dù Bồ Đào Nha đã đóng cửa biên giới hoàn t...  intrinsic  "
      ]
     },
     "execution_count": 6,
     "metadata": {},
     "output_type": "execute_result"
    }
   ],
   "source": [
    "df = pd.read_csv('./data/vihallu-train.csv')\n",
    "df.head()"
   ]
  },
  {
   "cell_type": "code",
   "execution_count": 8,
   "id": "362f3cb7-b725-45f9-871d-d18f3efe81ff",
   "metadata": {},
   "outputs": [
    {
     "data": {
      "text/plain": [
       "7000"
      ]
     },
     "execution_count": 8,
     "metadata": {},
     "output_type": "execute_result"
    }
   ],
   "source": [
    "len(df)"
   ]
  },
  {
   "cell_type": "code",
   "execution_count": 12,
   "id": "e07f6fd4-e077-4712-b3c3-182aa218c2d3",
   "metadata": {},
   "outputs": [
    {
     "name": "stdout",
     "output_type": "stream",
     "text": [
      "label\n",
      "intrinsic    2448\n",
      "extrinsic    2307\n",
      "no           2245\n",
      "Name: count, dtype: int64\n"
     ]
    },
    {
     "data": {
      "text/plain": [
       "<Axes: xlabel='label'>"
      ]
     },
     "execution_count": 12,
     "metadata": {},
     "output_type": "execute_result"
    },
    {
     "data": {
      "image/png": "[encoded data removed]",
      "text/plain": [
       "<Figure size 640x480 with 1 Axes>"
      ]
     },
     "metadata": {},
     "output_type": "display_data"
    }
   ],
   "source": [
    "x = df['label'].value_counts()\n",
    "print(x)\n",
    "x.plot(kind='bar')"
   ]
  },
  {
   "cell_type": "code",
   "execution_count": 13,
   "id": "f00b168f-d01b-45de-aac8-ae63b351a21b",
   "metadata": {},
   "outputs": [],
   "source": [
    "no_df = df[df['label'] == 'no']\n",
    "intrinsic_df = df[df['label'] == 'intrinsic']\n",
    "extrinsic_df = df[df['label'] == 'extrinsic']\n",
    "\n",
    "dfs = [no_df, intrinsic_df, extrinsic_df]"
   ]
  },
  {
   "cell_type": "code",
   "execution_count": 18,
   "id": "613cf527-f097-4adf-b7a9-4a36ccae12a1",
   "metadata": {},
   "outputs": [],
   "source": [
    "PROMPT = \"\"\"[ROLE] You are a Vietnamese hallucination classifier.\n",
    "[GOAL] Determine whether the ANSWER contains hallucination relative to the CONTEXT and assign exactly one of 3 labels.\n",
    "\n",
    "[CONTEXT]\n",
    "{}\n",
    "\n",
    "[QUESTION]\n",
    "{}\n",
    "\n",
    "[ANSWER]\n",
    "{}\n",
    "\n",
    "[GUIDELINES]\n",
    "- Rely only on the [CONTEXT]; do not use outside knowledge or speculation.\n",
    "- Label definitions:\n",
    "  • class 1: no → Consistent with the context; does not introduce outside information.\n",
    "  • class 2: intrinsic → Contradicts, distorts, or misinterprets information present in the context.\n",
    "  • class 3: extrinsic → Adds information not present in the context (even if factually true elsewhere).\n",
    "- Decision rules:\n",
    "  • If partly correct but introduces content not in the context → extrinsic.\n",
    "  • If it asserts something that conflicts with or corrupts the context → intrinsic.\n",
    "  • If omissions are minor without being wrong or adding outside info → no.\n",
    "- Prefer evidence by quoting or referencing the context; do not judge truth beyond the context.\n",
    "\n",
    "Classification result:\n",
    "The correct answer is: class {}\"\"\""
   ]
  },
  {
   "cell_type": "code",
   "execution_count": 20,
   "id": "1d41da5f-3b2b-461f-835d-f7b8d93a1423",
   "metadata": {},
   "outputs": [],
   "source": [
    "from typing import List\n",
    "def build_training_prompts(df: pd.DataFrame) -> List[str]:\n",
    "    texts = []\n",
    "    for i in range(len(df)):\n",
    "        context_ = df['context'].iloc[i]\n",
    "        prompt_ = df['prompt'].iloc[i]\n",
    "        response_ = df['response'].iloc[i]\n",
    "        label_ = df['label'].iloc[i]\n",
    "        texts.append(PROMPT.format(context_, prompt_, response_, label_))\n",
    "\n",
    "    return texts"
   ]
  },
  {
   "cell_type": "code",
   "execution_count": 25,
   "id": "7cadcbd9-a4cc-4ca8-a991-045eef229ae0",
   "metadata": {},
   "outputs": [],
   "source": [
    "df['text'] = build_training_prompts(df)"
   ]
  },
  {
   "cell_type": "code",
   "execution_count": 27,
   "id": "04bc308c-1ce9-4f34-b617-378df7635f29",
   "metadata": {},
   "outputs": [],
   "source": [
    "%%capture\n",
    "!mamba install cudatoolkit xformers bitsandbytes pytorch pytorch-cuda=11.8 \\\n",
    "    -c pytorch -c nvidia -c xformers -c conda-forge -y\n",
    "!pip install \"unsloth[kaggle] @ git+https://github.com/unslothai/unsloth.git\"\n",
    "!pip install bitsandbytes\n",
    "!pip uninstall datasets -y\n",
    "!pip install datasets"
   ]
  },
  {
   "cell_type": "code",
   "execution_count": 28,
   "id": "d9b1d348-4198-4a9d-9d22-f908afd3046e",
   "metadata": {},
   "outputs": [
    {
     "name": "stdout",
     "output_type": "stream",
     "text": [
      "🦥 Unsloth: Will patch your computer to enable 2x faster free finetuning.\n"
     ]
    },
    {
     "name": "stderr",
     "output_type": "stream",
     "text": [
      "Skipping import of cpp extensions due to incompatible torch version 2.9.0+cu128 for torchao version 0.13.0\n",
      "WARNING[XFORMERS]: xFormers can't load C++/CUDA extensions. xFormers was built for:\n",
      "    PyTorch 2.8.0+cu128 with CUDA 1208 (you have 2.9.0+cu128)\n",
      "    Python  3.9.23 (you have 3.12.3)\n",
      "  Please reinstall xformers (see https://github.com/facebookresearch/xformers#installing-xformers)\n",
      "  Memory-efficient attention, SwiGLU, sparse and more won't be available.\n",
      "  Set XFORMERS_MORE_DETAILS=1 for more details\n"
     ]
    },
    {
     "name": "stdout",
     "output_type": "stream",
     "text": [
      "========\n",
      "Switching to PyTorch attention since your Xformers is broken.\n",
      "========\n",
      "\n",
      "Unsloth: Xformers does not work in RTX 50X, Blackwell GPUs as of yet. Please build from source via\n",
      "```\n",
      "pip install ninja\n",
      "pip install -v --no-build-isolation -U git+https://github.com/facebookresearch/xformers.git@main#egg=xformers\n",
      "```\n",
      "\n",
      "🦥 Unsloth Zoo will now patch everything to make training faster!\n"
     ]
    }
   ],
   "source": [
    "from unsloth import FastLanguageModel\n",
    "NUM_CLASSES = 3\n",
    "dtype = None\n",
    "load_in_4bit = False\n",
    "\n",
    "model_name = \"unsloth/Qwen3-4B-Base\""
   ]
  },
  {
   "cell_type": "code",
   "execution_count": null,
   "id": "1155a9d9-cb36-4ea2-b5a7-2b1bfb3ceaf3",
   "metadata": {},
   "outputs": [
    {
     "name": "stdout",
     "output_type": "stream",
     "text": [
      "==((====))==  Unsloth 2025.10.6: Fast Qwen3 patching. Transformers: 4.56.2.\n",
      "   \\\\   /|    NVIDIA GeForce RTX 5090. Num GPUs = 1. Max memory: 31.367 GB. Platform: Linux.\n",
      "O^O/ \\_/ \\    Torch: 2.9.0+cu128. CUDA: 12.0. CUDA Toolkit: 12.8. Triton: 3.5.0\n",
      "\\        /    Bfloat16 = TRUE. FA [Xformers = None. FA2 = False]\n",
      " \"-____-\"     Free license: http://github.com/unslothai/unsloth\n",
      "Unsloth: Fast downloading is enabled - ignore downloading bars which are red colored!\n"
     ]
    },
    {
     "data": {
      "application/vnd.jupyter.widget-view+json": {
       "model_id": "daa1bef06e1345188668c7b11cd7351b",
       "version_major": 2,
       "version_minor": 0
      },
      "text/plain": [
       "model.safetensors.index.json: 0.00B [00:00, ?B/s]"
      ]
     },
     "metadata": {},
     "output_type": "display_data"
    },
    {
     "data": {
      "application/vnd.jupyter.widget-view+json": {
       "model_id": "f34dd7a0e52546239bbf493f8c79686c",
       "version_major": 2,
       "version_minor": 0
      },
      "text/plain": [
       "model-00001-of-00002.safetensors:   0%|          | 0.00/4.97G [00:00<?, ?B/s]"
      ]
     },
     "metadata": {},
     "output_type": "display_data"
    },
    {
     "data": {
      "application/vnd.jupyter.widget-view+json": {
       "model_id": "e7a5f23776c14254a4360a386d30d99b",
       "version_major": 2,
       "version_minor": 0
      },
      "text/plain": [
       "model-00002-of-00002.safetensors:   0%|          | 0.00/3.08G [00:00<?, ?B/s]"
      ]
     },
     "metadata": {},
     "output_type": "display_data"
    },
    {
     "data": {
      "application/vnd.jupyter.widget-view+json": {
       "model_id": "1246f47fe6fc482984663aff1636c2ed",
       "version_major": 2,
       "version_minor": 0
      },
      "text/plain": [
       "Loading checkpoint shards:   0%|          | 0/2 [00:00<?, ?it/s]"
      ]
     },
     "metadata": {},
     "output_type": "display_data"
    }
   ],
   "source": [
    "model, tokenizer = FastLanguageModel.from_pretrained(\n",
    "    model_name=model_name,\n",
    "    load_in_4bit=load_in_4bit,\n",
    "    dtype=dtype,\n",
    "    # device_map = \"balanced\",\n",
    ")"
   ]
  },
  {
   "cell_type": "code",
   "execution_count": null,
   "id": "7c0c140b-fbb2-45c1-8304-b36ad475c53c",
   "metadata": {},
   "outputs": [],
   "source": [
    "token_counts = [len(tokenizer.encode(x)) for x in df.text]\n",
    "\n",
    "print(\"Min tokens:\", min(token_counts))\n",
    "print(\"Max tokens:\", max(token_counts))\n",
    "print(\"Avg tokens:\", sum(token_counts)/len(token_counts))\n",
    "\n",
    "plt.hist(token_counts, bins=30)\n",
    "plt.xlabel(\"Số lượng tokens\")\n",
    "plt.ylabel(\"Số mẫu\")\n",
    "plt.title(\"Phân phối số token trong train_df.text\")\n",
    "plt.show()"
   ]
  },
  {
   "cell_type": "code",
   "execution_count": null,
   "id": "f11ad599-b46b-4173-aeb1-68bcd901fffd",
   "metadata": {},
   "outputs": [],
   "source": []
  }
 ],
 "metadata": {
  "kernelspec": {
   "display_name": "Python3 (ipykernel)",
   "language": "python",
   "name": "python3"
  },
  "language_info": {
   "codemirror_mode": {
    "name": "ipython",
    "version": 3
   },
   "file_extension": ".py",
   "mimetype": "text/x-python",
   "name": "python",
   "nbconvert_exporter": "python",
   "pygments_lexer": "ipython3",
   "version": "3.12.3"
  }
 },
 "nbformat": 4,
 "nbformat_minor": 5
}
